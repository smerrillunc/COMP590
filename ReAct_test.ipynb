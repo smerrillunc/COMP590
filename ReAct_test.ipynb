{
 "cells": [
  {
   "cell_type": "code",
   "execution_count": 1,
   "id": "6e405afa-2c38-49ee-a91d-0fea2e25c72b",
   "metadata": {},
   "outputs": [],
   "source": [
    "import openai\n",
    "import httpx\n",
    "import os\n",
    "\n",
    "deployment_name = \"rl_agent\"\n",
    "openai.api_type = \"azure\"\n",
    "openai.api_key = os.getenv(\"OPENAI_API_KEY\")\n",
    "openai.api_base = \"https://smerrill-openai-test.openai.azure.com/\"\n",
    "openai.api_version = \"2023-09-15-preview\""
   ]
  },
  {
   "cell_type": "markdown",
   "id": "76e33779-1fec-4d69-929d-8f7daf1d15a6",
   "metadata": {},
   "source": [
    "### General Helper Functions"
   ]
  },
  {
   "cell_type": "code",
   "execution_count": 2,
   "id": "d865dd08-9f78-4cbc-8830-20597ad25c1e",
   "metadata": {},
   "outputs": [],
   "source": [
    "# Defining a function to send the prompt to the model\n",
    "def send_message(messages, model_name, max_response_tokens=500):\n",
    "    response = openai.ChatCompletion.create(\n",
    "        engine=model_name,\n",
    "        messages=messages,\n",
    "        temperature=0.5,\n",
    "        max_tokens=max_response_tokens,\n",
    "        top_p=0.9,\n",
    "        frequency_penalty=0,\n",
    "        presence_penalty=0,\n",
    "    )\n",
    "    return response['choices'][0]['message']['content']\n",
    "\n",
    "# Defining a function to print out the conversation in a readable format\n",
    "def print_conversation(messages):\n",
    "    for message in messages:\n",
    "        print(f\"[{message['role'].upper()}]\")\n",
    "        print(message['content'])\n",
    "        print()"
   ]
  },
  {
   "cell_type": "markdown",
   "id": "a51599a2-ad9a-44f5-b189-584c94ca42fc",
   "metadata": {},
   "source": [
    "### Define Tools LLM can interact with"
   ]
  },
  {
   "cell_type": "code",
   "execution_count": 3,
   "id": "43f6f9e8-0589-46b8-80b9-ae4c4150bd76",
   "metadata": {},
   "outputs": [],
   "source": [
    "def calculate(what):\n",
    "    return eval(what)"
   ]
  },
  {
   "cell_type": "code",
   "execution_count": 4,
   "id": "b07cc042-11d6-4432-8927-0c995d183215",
   "metadata": {},
   "outputs": [],
   "source": [
    "def wikipedia(q):\n",
    "    return httpx.get(\"https://en.wikipedia.org/w/api.php\", params={\n",
    "        \"action\": \"query\",\n",
    "        \"list\": \"search\",\n",
    "        \"srsearch\": q,\n",
    "        \"format\": \"json\"\n",
    "    }).json()[\"query\"][\"search\"][0][\"snippet\"]\n"
   ]
  },
  {
   "cell_type": "code",
   "execution_count": 5,
   "id": "b20cff6e-7e1c-40e4-bd5e-3144bc2d1dc2",
   "metadata": {},
   "outputs": [],
   "source": [
    "known_actions = {\n",
    "    \"wikipedia\": wikipedia,\n",
    "    \"calculate\": calculate,\n",
    "}"
   ]
  },
  {
   "cell_type": "markdown",
   "id": "1c5302bf-a72f-46bb-8ed7-1fc4aead1a93",
   "metadata": {},
   "source": [
    "### System Message to provide"
   ]
  },
  {
   "cell_type": "code",
   "execution_count": 6,
   "id": "2036d8d5-2936-408f-9a59-2fbb1930d447",
   "metadata": {},
   "outputs": [
    {
     "name": "stdout",
     "output_type": "stream",
     "text": [
      "You run in a loop of Thought, Action, PAUSE, Observation.\n",
      "At the end of the loop you output an Answer\n",
      "Use Thought to describe your thoughts about the question you have been asked.\n",
      "Use Action to run one of the actions available to you - then return PAUSE.\n",
      "Observation will be the result of running those actions.\n",
      "\n",
      "Your available actions are:\n",
      "\n",
      "calculate:\n",
      "e.g. calculate: 4 * 7 / 3\n",
      "Runs a calculation and returns the number - uses Python so be sure to use floating point syntax if necessary\n",
      "\n",
      "wikipedia:\n",
      "e.g. wikipedia: Django\n",
      "Returns a summary from searching Wikipedia\n",
      "\n",
      "Always look things up on Wikipedia if you have the opportunity to do so.\n",
      "You can try refining a wikipedia search to something more specific if the original query doesn't answer your question\n",
      "\n",
      "Example session:\n",
      "\n",
      "Question: What is the capital of France?\n",
      "Thought: I should look up France on Wikipedia\n",
      "Action: wikipedia: France\n",
      "PAUSE\n",
      "\n",
      "You will be called again with this:\n",
      "\n",
      "Observation: France is a country. The capital is Paris.\n",
      "\n",
      "You then output:\n",
      "\n",
      "Answer: The capital of France is Paris\n"
     ]
    }
   ],
   "source": [
    "base_system_message = \"\"\"\n",
    "You run in a loop of Thought, Action, PAUSE, Observation.\n",
    "At the end of the loop you output an Answer\n",
    "Use Thought to describe your thoughts about the question you have been asked.\n",
    "Use Action to run one of the actions available to you - then return PAUSE.\n",
    "Observation will be the result of running those actions.\n",
    "\n",
    "Your available actions are:\n",
    "\n",
    "calculate:\n",
    "e.g. calculate: 4 * 7 / 3\n",
    "Runs a calculation and returns the number - uses Python so be sure to use floating point syntax if necessary\n",
    "\n",
    "wikipedia:\n",
    "e.g. wikipedia: Django\n",
    "Returns a summary from searching Wikipedia\n",
    "\n",
    "Always look things up on Wikipedia if you have the opportunity to do so.\n",
    "You can try refining a wikipedia search to something more specific if the original query doesn't answer your question\n",
    "\n",
    "Example session:\n",
    "\n",
    "Question: What is the capital of France?\n",
    "Thought: I should look up France on Wikipedia\n",
    "Action: wikipedia: France\n",
    "PAUSE\n",
    "\n",
    "You will be called again with this:\n",
    "\n",
    "Observation: France is a country. The capital is Paris.\n",
    "\n",
    "You then output:\n",
    "\n",
    "Answer: The capital of France is Paris\n",
    "\"\"\"\n",
    "\n",
    "system_message = f\"{base_system_message.strip()}\"\n",
    "print(system_message)"
   ]
  },
  {
   "cell_type": "markdown",
   "id": "5bf2ad10-1164-4df7-a6b9-72bb87135c8a",
   "metadata": {},
   "source": [
    "#### Question Query"
   ]
  },
  {
   "cell_type": "code",
   "execution_count": 7,
   "id": "a394b506-acc2-4e84-bb80-99f02403ef27",
   "metadata": {},
   "outputs": [],
   "source": [
    "# This is the first user message that will be sent to the model. Feel free to update this.\n",
    "user_message = \"Who is the main character in Quentin tarantino's second film?\"\n",
    "\n",
    "# Create the list of messages. role can be either \"user\" or \"assistant\" \n",
    "messages=[\n",
    "    {\"role\": \"system\", \"content\": system_message},\n",
    "    {\"role\": \"user\", \"name\":\"example_user\", \"content\": user_message}\n",
    "]"
   ]
  },
  {
   "cell_type": "code",
   "execution_count": 8,
   "id": "a34a4489-ab08-4e83-bb92-f00a3444f4b8",
   "metadata": {},
   "outputs": [],
   "source": [
    "max_response_tokens = 500\n",
    "\n",
    "response = send_message(messages, deployment_name, max_response_tokens)\n",
    "messages.append({\"role\": \"assistant\", \"content\": response})"
   ]
  },
  {
   "cell_type": "markdown",
   "id": "ac95d709-e733-49b3-a8dc-c2713c9b3987",
   "metadata": {},
   "source": [
    "#### Action Selection"
   ]
  },
  {
   "cell_type": "code",
   "execution_count": 9,
   "id": "26c522be-188a-470c-9026-0fe337d00cfc",
   "metadata": {},
   "outputs": [
    {
     "name": "stdout",
     "output_type": "stream",
     "text": [
      "Thought: I know that Quentin Tarantino's second film is Pulp Fiction, but I'm not sure who the main character is.\n",
      "Action: wikipedia: Pulp Fiction\n",
      "PAUSE\n"
     ]
    }
   ],
   "source": [
    "print(response)"
   ]
  },
  {
   "cell_type": "markdown",
   "id": "adbe8942-1422-4a58-ac80-6db8433e75e6",
   "metadata": {},
   "source": [
    "#### Observation from selected action"
   ]
  },
  {
   "cell_type": "code",
   "execution_count": 10,
   "id": "7073622e-f584-4650-ba29-9518ff73f957",
   "metadata": {},
   "outputs": [
    {
     "name": "stdout",
     "output_type": "stream",
     "text": [
      "Observation: <span class=\"searchmatch\">Pulp</span> <span class=\"searchmatch\">Fiction</span> is a 1994 American independent crime film written and directed by Quentin Tarantino from a story he conceived with Roger Avary. It tells four\n"
     ]
    }
   ],
   "source": [
    "obs = 'Observation: ' + wikipedia(\"Pulp Fiction\")\n",
    "messages.append({\"role\": \"user\", \"name\":\"example_user\", \"content\": obs})\n",
    "print(obs)"
   ]
  },
  {
   "cell_type": "markdown",
   "id": "321c8b68-057f-403e-aa2b-c73af73f58de",
   "metadata": {},
   "source": [
    "#### New action from response"
   ]
  },
  {
   "cell_type": "code",
   "execution_count": 11,
   "id": "cb301a68-e02e-4c07-b41a-f187b04ddfe1",
   "metadata": {},
   "outputs": [],
   "source": [
    "response = send_message(messages, deployment_name, max_response_tokens)"
   ]
  },
  {
   "cell_type": "code",
   "execution_count": 12,
   "id": "f98b948f-1769-41cd-832f-73b8e9604c3d",
   "metadata": {},
   "outputs": [
    {
     "name": "stdout",
     "output_type": "stream",
     "text": [
      "Answer: The main character in Quentin Tarantino's second film, Pulp Fiction, is debatable as there are multiple main characters. However, the most prominent characters are Vincent Vega and Jules Winnfield, played by John Travolta and Samuel L. Jackson, respectively.\n"
     ]
    }
   ],
   "source": [
    "print(response)"
   ]
  },
  {
   "cell_type": "code",
   "execution_count": null,
   "id": "3201ab87-5bca-423c-b6a5-d618e038f73c",
   "metadata": {},
   "outputs": [],
   "source": []
  }
 ],
 "metadata": {
  "kernelspec": {
   "display_name": "llm_env",
   "language": "python",
   "name": "llm_env"
  },
  "language_info": {
   "codemirror_mode": {
    "name": "ipython",
    "version": 3
   },
   "file_extension": ".py",
   "mimetype": "text/x-python",
   "name": "python",
   "nbconvert_exporter": "python",
   "pygments_lexer": "ipython3",
   "version": "3.12.1"
  }
 },
 "nbformat": 4,
 "nbformat_minor": 5
}
