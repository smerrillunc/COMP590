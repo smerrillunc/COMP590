{
 "cells": [
  {
   "cell_type": "code",
   "execution_count": 6,
   "id": "7778a18f-3097-4baf-9413-2907b54e1d06",
   "metadata": {},
   "outputs": [],
   "source": [
    "import openai\n",
    "import httpx\n",
    "import os\n",
    "\n",
    "deployment_name = \"rl_agent\"\n",
    "openai.api_type = \"azure\"\n",
    "openai.api_key = os.getenv(\"OPENAI_API_KEY\")\n",
    "openai.api_base = \"https://smerrill-openai-test.openai.azure.com/\"\n",
    "openai.api_version = \"2023-09-15-preview\""
   ]
  },
  {
   "cell_type": "code",
   "execution_count": 10,
   "id": "92135579-7b72-4461-8810-6b081076fc60",
   "metadata": {},
   "outputs": [],
   "source": [
    "# Defining a function to send the prompt to the model\n",
    "def send_message(messages, model_name, max_response_tokens=500):\n",
    "    response = openai.ChatCompletion.create(\n",
    "        engine=model_name,\n",
    "        messages=messages,\n",
    "        temperature=0.5,\n",
    "        max_tokens=max_response_tokens,\n",
    "        top_p=0.9,\n",
    "        frequency_penalty=0,\n",
    "        presence_penalty=0,\n",
    "    )\n",
    "    return response['choices'][0]['message']['content']\n",
    "\n",
    "# Defining a function to print out the conversation in a readable format\n",
    "def print_conversation(messages):\n",
    "    for message in messages:\n",
    "        print(f\"[{message['role'].upper()}]\")\n",
    "        print(message['content'])\n",
    "        print()"
   ]
  },
  {
   "cell_type": "code",
   "execution_count": 157,
   "id": "8bb11b57-c179-438e-a551-cc58e36b2f4d",
   "metadata": {},
   "outputs": [
    {
     "name": "stdout",
     "output_type": "stream",
     "text": [
      "You run in a loop of Thought, Action, PAUSE, Observation.\n",
      "You are helping an agent navigate in a 2 dimensional grid world.  The agent starts at position (0, 0) and you're job is to help him get to the goal cell. The goal cell can be anywhere in the gridworld.\n",
      "You will neeed to direct the agent to take actions to move him to the goal cell.\n",
      "Use Action to run one of the actions available to you - then return PAUSE.\n",
      "Observation will be the result of running those actions.\n",
      "\n",
      "Your available actions are:\n",
      "\n",
      "find(agent or goal):\n",
      "e.g. returns the grid position of the agent or goal cell\n",
      "\n",
      "left:\n",
      "e.g. moves the agent left.  If the agent is at cell (0, 1) it moves him to cell (0, 0)\n",
      "\n",
      "right:\n",
      "e.g. moves the agent right.  If the agent is at cell (0, 0) it moves him to cell (0, 1)\n",
      "\n",
      "up:\n",
      "e.g. moves the agent up.  If the agent is at cell (0, 0) it moves him to cell (1, 0)\n",
      "\n",
      "down:\n",
      "e.g. moves the agent down.  If the agent is at cell (1, 0) it moves him to cell (0, 0)\n",
      "\n",
      "Example session:\n",
      "\n",
      "Task: Agent is in a 5 X 5 grid world\n",
      "Thought: I should identify where the goal is\n",
      "Action: find\n",
      "PAUSE\n",
      "\n",
      "Observation: The goal cell is at grid position (0, 1)\n",
      "Thought: Since the agent is at position (0, 0) and the goal cell is at position (0, 1), I should move right\n",
      "Action right\n",
      "PAUSE\n",
      "\n",
      "You will be called again with this\n",
      "Observation: Congrats you have helped the agent reach the goal\n"
     ]
    }
   ],
   "source": [
    "base_system_message = \"\"\"\n",
    "You run in a loop of Thought, Action, PAUSE, Observation.\n",
    "You are helping an agent navigate in a 2 dimensional grid world.  The agent starts at position (0, 0) and you're job is to help him get to the goal cell. The goal cell can be anywhere in the gridworld.\n",
    "You will neeed to direct the agent to take actions to move him to the goal cell.\n",
    "Use Action to run one of the actions available to you - then return PAUSE.\n",
    "Observation will be the result of running those actions.\n",
    "\n",
    "Your available actions are:\n",
    "\n",
    "find(agent or goal):\n",
    "e.g. returns the grid position of the agent or goal cell\n",
    "\n",
    "left:\n",
    "e.g. moves the agent left.  If the agent is at cell (0, 1) it moves him to cell (0, 0)\n",
    "\n",
    "right:\n",
    "e.g. moves the agent right.  If the agent is at cell (0, 0) it moves him to cell (0, 1)\n",
    "\n",
    "up:\n",
    "e.g. moves the agent up.  If the agent is at cell (0, 0) it moves him to cell (1, 0)\n",
    "\n",
    "down:\n",
    "e.g. moves the agent down.  If the agent is at cell (1, 0) it moves him to cell (0, 0)\n",
    "\n",
    "Example session:\n",
    "\n",
    "Task: Agent is in a 5 X 5 grid world\n",
    "Thought: I should identify where the goal is\n",
    "Action: find\n",
    "PAUSE\n",
    "\n",
    "Observation: The goal cell is at grid position (0, 1)\n",
    "Thought: Since the agent is at position (0, 0) and the goal cell is at position (0, 1), I should move right\n",
    "Action right\n",
    "PAUSE\n",
    "\n",
    "You will be called again with this\n",
    "Observation: Congrats you have helped the agent reach the goal\n",
    "\"\"\"\n",
    "\n",
    "system_message = f\"{base_system_message.strip()}\"\n",
    "print(system_message)"
   ]
  },
  {
   "cell_type": "code",
   "execution_count": 158,
   "id": "81aa85d8-5167-4614-83d8-2528bd066ed4",
   "metadata": {},
   "outputs": [],
   "source": [
    "import gym\n",
    "from gym import spaces\n",
    "from gym.utils import seeding\n",
    "import numpy as np\n",
    "\n",
    "class GridWorldEnv(gym.Env):\n",
    "    metadata = {'render.modes': ['human', 'ansi']}\n",
    "    \n",
    "    def __init__(self, grid_size=(5, 5), start_pos=(0, 0), goal_pos=(2, 2)):\n",
    "        self.grid_size = grid_size\n",
    "        self.start_pos = start_pos\n",
    "        self.goal_pos = goal_pos\n",
    "        self.agent_pos = start_pos\n",
    "        \n",
    "        self.action_space = spaces.Discrete(4)  # up, down, left, right\n",
    "        self.observation_space = spaces.Box(low=0, high=1, shape=(self.grid_size[0], self.grid_size[1]), dtype=np.float32)\n",
    "        \n",
    "        self._seed()\n",
    "        self.reset()\n",
    "        \n",
    "    def _seed(self, seed=None):\n",
    "        self.np_random, seed = seeding.np_random(seed)\n",
    "        return [seed]\n",
    "    \n",
    "    def reset(self):\n",
    "        self.agent_pos = self.start_pos\n",
    "        self.grid = np.zeros(self.grid_size)\n",
    "        self.grid[self.goal_pos[0], self.goal_pos[1]] = 1  # Set goal position\n",
    "        return self._get_observation()\n",
    "    \n",
    "    def step(self, action):\n",
    "        if action == 0:  # up\n",
    "            self.agent_pos = (max(0, self.agent_pos[0] - 1), self.agent_pos[1])\n",
    "        elif action == 1:  # down\n",
    "            self.agent_pos = (min(self.grid_size[0] - 1, self.agent_pos[0] + 1), self.agent_pos[1])\n",
    "        elif action == 2:  # left\n",
    "            self.agent_pos = (self.agent_pos[0], max(0, self.agent_pos[1] - 1))\n",
    "        elif action == 3:  # right\n",
    "            self.agent_pos = (self.agent_pos[0], min(self.grid_size[1] - 1, self.agent_pos[1] + 1))\n",
    "        \n",
    "        done = self.agent_pos == self.goal_pos\n",
    "        reward = 1 if done else 0\n",
    "        return self._get_observation(), reward, done, {}\n",
    "    \n",
    "    def _get_observation(self):\n",
    "        obs = np.zeros(self.grid_size)\n",
    "        obs[self.agent_pos[0], self.agent_pos[1]] = 1\n",
    "        return obs\n",
    "    \n",
    "    def render(self, mode='human'):\n",
    "        if mode == 'human':\n",
    "            for i in range(self.grid_size[0]):\n",
    "                for j in range(self.grid_size[1]):\n",
    "                    if (i, j) == self.agent_pos:\n",
    "                        print('A', end=' ')\n",
    "                    elif (i, j) == self.goal_pos:\n",
    "                        print('G', end=' ')\n",
    "                    else:\n",
    "                        print('.', end=' ')\n",
    "                print()\n",
    "            print()\n",
    "        elif mode == 'ansi':\n",
    "            return None\n",
    "        else:\n",
    "            super(GridWorldEnv, self).render(mode=mode)"
   ]
  },
  {
   "cell_type": "code",
   "execution_count": 236,
   "id": "17e82b81-58ea-4e47-b2d5-140c094753db",
   "metadata": {},
   "outputs": [
    {
     "name": "stdout",
     "output_type": "stream",
     "text": [
      "A . . . . \n",
      ". . . . . \n",
      ". . G . . \n",
      ". . . . . \n",
      ". . . . . \n",
      "\n"
     ]
    }
   ],
   "source": [
    "env = GridWorldEnv()\n",
    "obs = env.reset()\n",
    "env.render()"
   ]
  },
  {
   "cell_type": "code",
   "execution_count": 214,
   "id": "1add6120-e791-417f-8f47-85d77247ef26",
   "metadata": {},
   "outputs": [],
   "source": [
    "# This is the first user message that will be sent to the model. Feel free to update this.\n",
    "user_message = \"the agent is in a 5 X 5 gridwolrd\"\n",
    "\n",
    "# Create the list of messages. role can be either \"user\" or \"assistant\" \n",
    "messages=[\n",
    "    {\"role\": \"system\", \"content\": system_message},\n",
    "    {\"role\": \"user\", \"name\":\"example_user\", \"content\": user_message}\n",
    "]"
   ]
  },
  {
   "cell_type": "markdown",
   "id": "90cbd2e0-dd33-4641-8b23-44703b348988",
   "metadata": {},
   "source": [
    "### First Action"
   ]
  },
  {
   "cell_type": "code",
   "execution_count": 215,
   "id": "3b1f6326-9c18-4de4-8759-68286f075475",
   "metadata": {},
   "outputs": [],
   "source": [
    "max_response_tokens = 1000\n",
    "\n",
    "response = send_message(messages, deployment_name, max_response_tokens)\n",
    "messages.append({\"role\": \"assistant\", \"content\": response})"
   ]
  },
  {
   "cell_type": "code",
   "execution_count": 216,
   "id": "92f67e2b-6989-423b-8a2c-23ed3c605024",
   "metadata": {},
   "outputs": [
    {
     "name": "stdout",
     "output_type": "stream",
     "text": [
      "Thought: I should identify where the goal is\n",
      "Action: find(goal)\n",
      "PAUSE\n"
     ]
    }
   ],
   "source": [
    "print(response)"
   ]
  },
  {
   "cell_type": "markdown",
   "id": "66258fee-b6dc-4fe9-9969-21ae272d922a",
   "metadata": {},
   "source": [
    "### First Observation"
   ]
  },
  {
   "cell_type": "code",
   "execution_count": 237,
   "id": "91e39cb1-d0eb-4f2f-8058-cdd013e8e660",
   "metadata": {},
   "outputs": [
    {
     "name": "stdout",
     "output_type": "stream",
     "text": [
      "A . . . . \n",
      ". . . . . \n",
      ". . G . . \n",
      ". . . . . \n",
      ". . . . . \n",
      "\n"
     ]
    }
   ],
   "source": [
    "env.render()"
   ]
  },
  {
   "cell_type": "code",
   "execution_count": 217,
   "id": "4446f9e7-89ee-4d20-a47e-6d57270b8550",
   "metadata": {},
   "outputs": [],
   "source": [
    "#message from environment: \n",
    "obs = f'Observation: (2, 2)'\n",
    "messages.append({\"role\": \"user\", \"content\": obs})"
   ]
  },
  {
   "cell_type": "markdown",
   "id": "7d54005d-976e-4232-bc45-6b9091301dbd",
   "metadata": {},
   "source": [
    "### Second Action"
   ]
  },
  {
   "cell_type": "code",
   "execution_count": 219,
   "id": "742b9b90-404d-4ad0-96e7-541bd5d8dff5",
   "metadata": {},
   "outputs": [
    {
     "name": "stdout",
     "output_type": "stream",
     "text": [
      "Thought: The goal is at position (2, 2). I should direct the agent to move towards that position.\n",
      "Action: right\n",
      "PAUSE\n"
     ]
    }
   ],
   "source": [
    "response = send_message(messages, deployment_name, max_response_tokens)\n",
    "print(response)"
   ]
  },
  {
   "cell_type": "markdown",
   "id": "2b60bec9-995d-4ae7-a463-fdafd313e1d3",
   "metadata": {},
   "source": [
    "### Second Observation"
   ]
  },
  {
   "cell_type": "code",
   "execution_count": 238,
   "id": "d2fb5833-ca9f-49be-bd1c-4f7610fde92a",
   "metadata": {},
   "outputs": [
    {
     "name": "stdout",
     "output_type": "stream",
     "text": [
      ". A . . . \n",
      ". . . . . \n",
      ". . G . . \n",
      ". . . . . \n",
      ". . . . . \n",
      "\n"
     ]
    }
   ],
   "source": [
    "env.step(3)\n",
    "env.render()"
   ]
  },
  {
   "cell_type": "code",
   "execution_count": 220,
   "id": "b42d3471-0c4b-40f3-ae4c-257597cd3549",
   "metadata": {},
   "outputs": [],
   "source": [
    "obs = f'Observation: Agent has moved right, now at (0, 1)'\n",
    "messages.append({\"role\": \"user\", \"content\": obs})"
   ]
  },
  {
   "cell_type": "markdown",
   "id": "a1a8763e-cf64-44e0-bb8c-863bc98204fb",
   "metadata": {},
   "source": [
    "### Third Action"
   ]
  },
  {
   "cell_type": "code",
   "execution_count": 221,
   "id": "2d279b7f-0a96-4681-b0bb-2a26b6172abb",
   "metadata": {},
   "outputs": [
    {
     "name": "stdout",
     "output_type": "stream",
     "text": [
      "Thought: The agent is now at (0, 1) and the goal is at (2, 2). I should move the agent down and then right to reach the goal.\n",
      "Action: down\n",
      "PAUSE\n"
     ]
    }
   ],
   "source": [
    "response = send_message(messages, deployment_name, max_response_tokens)\n",
    "print(response)"
   ]
  },
  {
   "cell_type": "markdown",
   "id": "2424cc11-9979-46b1-aa55-267268641b52",
   "metadata": {},
   "source": [
    "### Third Observation"
   ]
  },
  {
   "cell_type": "code",
   "execution_count": 239,
   "id": "1eb2c081-e385-4ca7-a18b-18a24e451a12",
   "metadata": {},
   "outputs": [
    {
     "name": "stdout",
     "output_type": "stream",
     "text": [
      ". . . . . \n",
      ". A . . . \n",
      ". . G . . \n",
      ". . . . . \n",
      ". . . . . \n",
      "\n"
     ]
    }
   ],
   "source": [
    "env.step(1)\n",
    "env.render()"
   ]
  },
  {
   "cell_type": "code",
   "execution_count": 222,
   "id": "73db892b-7555-428e-83f1-7f519acd10e0",
   "metadata": {},
   "outputs": [],
   "source": [
    "obs = f'Observation: Agent moved down, now at (1, 1)'\n",
    "messages.append({\"role\": \"user\", \"content\": obs})"
   ]
  },
  {
   "cell_type": "markdown",
   "id": "c5a3a650-c278-45ce-9912-002d385c3963",
   "metadata": {},
   "source": [
    "### Fourth Action"
   ]
  },
  {
   "cell_type": "code",
   "execution_count": 223,
   "id": "2fdd5f61-efbb-424e-8614-8fd9c33cf143",
   "metadata": {},
   "outputs": [
    {
     "name": "stdout",
     "output_type": "stream",
     "text": [
      "Thought: The goal is at (2, 2) and the agent is at (1, 1). I should move the agent down and then right.\n",
      "Action: down\n",
      "PAUSE\n"
     ]
    }
   ],
   "source": [
    "response = send_message(messages, deployment_name, max_response_tokens)\n",
    "print(response)"
   ]
  },
  {
   "cell_type": "markdown",
   "id": "da586003-a63f-48f3-8fe0-5aec01b49118",
   "metadata": {},
   "source": [
    "### Fourth Observation"
   ]
  },
  {
   "cell_type": "code",
   "execution_count": 240,
   "id": "a8e35ce2-44ca-428c-826c-04cbe0ce4eb6",
   "metadata": {},
   "outputs": [
    {
     "name": "stdout",
     "output_type": "stream",
     "text": [
      ". . . . . \n",
      ". . . . . \n",
      ". A G . . \n",
      ". . . . . \n",
      ". . . . . \n",
      "\n"
     ]
    }
   ],
   "source": [
    "env.step(1)\n",
    "env.render()"
   ]
  },
  {
   "cell_type": "code",
   "execution_count": 224,
   "id": "ac16f2ef-b566-4931-9131-c8a00b46f956",
   "metadata": {},
   "outputs": [],
   "source": [
    "obs = f'Observation: Agent moved down, now at (1, 2)'\n",
    "messages.append({\"role\": \"user\", \"content\": obs})"
   ]
  },
  {
   "cell_type": "markdown",
   "id": "c5932b21-f7ef-41fe-afb9-38d22af4bef5",
   "metadata": {},
   "source": [
    "### Fifth Action"
   ]
  },
  {
   "cell_type": "code",
   "execution_count": 225,
   "id": "3ea0e648-d8a5-4fe5-b3d7-4818686fada6",
   "metadata": {},
   "outputs": [
    {
     "name": "stdout",
     "output_type": "stream",
     "text": [
      "Thought: The goal cell is at position (2, 2) and the agent is currently at position (1, 2). I should move the agent right to get closer to the goal cell.\n",
      "Action: right\n",
      "PAUSE\n"
     ]
    }
   ],
   "source": [
    "response = send_message(messages, deployment_name, max_response_tokens)\n",
    "print(response)"
   ]
  },
  {
   "cell_type": "markdown",
   "id": "131fbaff-ebe4-415c-9413-c8e427862133",
   "metadata": {},
   "source": [
    "### Fifth Observation"
   ]
  },
  {
   "cell_type": "code",
   "execution_count": 241,
   "id": "16c62010-e3c8-4766-b270-81cf958f47b4",
   "metadata": {},
   "outputs": [
    {
     "name": "stdout",
     "output_type": "stream",
     "text": [
      ". . . . . \n",
      ". . . . . \n",
      ". . A . . \n",
      ". . . . . \n",
      ". . . . . \n",
      "\n"
     ]
    }
   ],
   "source": [
    "env.step(3)\n",
    "env.render()"
   ]
  },
  {
   "cell_type": "code",
   "execution_count": 226,
   "id": "35cfa488-d9c2-467d-a23a-a90ecc05cfc3",
   "metadata": {},
   "outputs": [],
   "source": [
    "obs = f'Observation: Agent moved right, now at (2, 2)'\n",
    "messages.append({\"role\": \"user\", \"content\": obs})"
   ]
  },
  {
   "cell_type": "markdown",
   "id": "d6bfb149-6ac5-47c9-804b-843625bcbc8d",
   "metadata": {},
   "source": [
    "### Sixth Action"
   ]
  },
  {
   "cell_type": "code",
   "execution_count": 227,
   "id": "d615e1a6-7834-4efb-9a8b-ab962f902ecf",
   "metadata": {},
   "outputs": [
    {
     "name": "stdout",
     "output_type": "stream",
     "text": [
      "Thought: The agent has reached the goal cell at (2, 2). Congrats!\n"
     ]
    }
   ],
   "source": [
    "response = send_message(messages, deployment_name, max_response_tokens)\n",
    "print(response)"
   ]
  },
  {
   "cell_type": "code",
   "execution_count": null,
   "id": "ec96b07c-017a-464a-a806-4c9b01dbf20d",
   "metadata": {},
   "outputs": [],
   "source": []
  }
 ],
 "metadata": {
  "kernelspec": {
   "display_name": "coingame",
   "language": "python",
   "name": "coingame"
  },
  "language_info": {
   "codemirror_mode": {
    "name": "ipython",
    "version": 3
   },
   "file_extension": ".py",
   "mimetype": "text/x-python",
   "name": "python",
   "nbconvert_exporter": "python",
   "pygments_lexer": "ipython3",
   "version": "3.11.5"
  }
 },
 "nbformat": 4,
 "nbformat_minor": 5
}
